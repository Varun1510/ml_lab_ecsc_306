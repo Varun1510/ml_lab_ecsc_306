{
 "cells": [
  {
   "cell_type": "markdown",
   "metadata": {},
   "source": [
    "# (a+b)^2=a^2+2ab+b^2"
   ]
  },
  {
   "cell_type": "code",
   "execution_count": 1,
   "metadata": {},
   "outputs": [
    {
     "name": "stdout",
     "output_type": "stream",
     "text": [
      "25\n"
     ]
    }
   ],
   "source": [
    "import tensorflow as tf\n",
    "\n",
    "a = tf.multiply(2, 2)\n",
    "b = tf.multiply(3, 3)\n",
    "c = tf.multiply(2, 2)\n",
    "d = tf.multiply(c, 3)\n",
    "e = tf.add(a, b)\n",
    "f = tf.add(e, d)\n",
    "\n",
    "with tf.Session() as sess:\n",
    "    writer = tf.summary.FileWriter(\"/home/kiran/Desktop/o1\", sess.graph)\n",
    "    print(sess.run(f))   \n",
    "    writer.close()"
   ]
  },
  {
   "cell_type": "markdown",
   "metadata": {},
   "source": [
    "# (a-b)^3 = a^3 - b^3 -3ab(a-b)"
   ]
  },
  {
   "cell_type": "code",
   "execution_count": 2,
   "metadata": {},
   "outputs": [
    {
     "name": "stdout",
     "output_type": "stream",
     "text": [
      "27\n"
     ]
    }
   ],
   "source": [
    "import tensorflow as tf\n",
    "a  = tf.multiply(6, 6)\n",
    "a1 = tf.multiply(a, 6)\n",
    "\n",
    "b  = tf.multiply(3, 3)\n",
    "b1 = tf.multiply(b, 3)\n",
    "\n",
    "c  = tf.multiply(3, 6)\n",
    "c1 = tf.multiply(c, 3)\n",
    "\n",
    "d  = tf.subtract(6, 3)\n",
    "\n",
    "e  = tf.multiply(c1, d)\n",
    "\n",
    "f  = tf.subtract(a1, b1)\n",
    "\n",
    "g  = tf.subtract(f, e)\n",
    "\n",
    "with tf.Session() as sess:\n",
    "    writer = tf.summary.FileWriter(\"/home/kiran/Desktop/o2\", sess.graph)\n",
    "    print(sess.run(g))\n",
    "    writer.close()"
   ]
  }
 ],
 "metadata": {
  "kernelspec": {
   "display_name": "Python 3",
   "language": "python",
   "name": "python3"
  },
  "language_info": {
   "codemirror_mode": {
    "name": "ipython",
    "version": 3
   },
   "file_extension": ".py",
   "mimetype": "text/x-python",
   "name": "python",
   "nbconvert_exporter": "python",
   "pygments_lexer": "ipython3",
   "version": "3.6.1"
  }
 },
 "nbformat": 4,
 "nbformat_minor": 2
}
