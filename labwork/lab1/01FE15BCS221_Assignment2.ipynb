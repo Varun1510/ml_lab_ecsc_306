{
 "cells": [
  {
   "cell_type": "markdown",
   "metadata": {},
   "source": [
    "# y=mx+c"
   ]
  },
  {
   "cell_type": "code",
   "execution_count": 2,
   "metadata": {},
   "outputs": [
    {
     "name": "stdout",
     "output_type": "stream",
     "text": [
      "[3.0, 4.6666665]\n",
      "7.0\n",
      "1.5\n",
      "-2.0\n"
     ]
    }
   ],
   "source": [
    "import tensorflow as tf\n",
    "\n",
    "a = tf.constant([1.0, 2.0, 6.0], name='a')\n",
    "b = tf.constant([3.0, 2.0, 5.0], name='b')\n",
    "\n",
    "mean_a, variance_a = tf.nn.moments(a, [0])\n",
    "mean_b, variance_b = tf.nn.moments(b, [0])\n",
    "\n",
    "a1=tf.subtract(a[0],mean_a)\n",
    "a2=tf.subtract(a[1],mean_a)\n",
    "a3=tf.subtract(a[2],mean_a)\n",
    "\n",
    "b1=tf.subtract(b[0],mean_b)\n",
    "b2=tf.subtract(b[1],mean_b)\n",
    "b3=tf.subtract(b[2],mean_b)\n",
    "\n",
    "c1=tf.multiply(a1,b1)\n",
    "c2=tf.multiply(a2,b2)\n",
    "c3=tf.multiply(a3,b3)\n",
    "\n",
    "c4=tf.add(c1,c2)\n",
    "c5=tf.add(c4,c3)\n",
    "\n",
    "cov = tf.divide(c5,variance_a)\n",
    "\n",
    "m1=tf.multiply(cov,mean_b)\n",
    "m=tf.subtract(mean_a,m1)\n",
    "\n",
    "with tf.Session() as sess:\n",
    "    writer = tf.summary.FileWriter(\"/home/kiran/Desktop/o3\", sess.graph)\n",
    "    print(sess.run([mean_a, variance_a]))\n",
    "    (sess.run([mean_b, variance_b]))\n",
    "    print(sess.run(c5))\n",
    "    print(sess.run(cov))\n",
    "    print(sess.run(m))\n",
    "    writer.close()"
   ]
  },
  {
   "cell_type": "code",
   "execution_count": null,
   "metadata": {
    "collapsed": true
   },
   "outputs": [],
   "source": []
  }
 ],
 "metadata": {
  "kernelspec": {
   "display_name": "Python 3",
   "language": "python",
   "name": "python3"
  },
  "language_info": {
   "codemirror_mode": {
    "name": "ipython",
    "version": 3
   },
   "file_extension": ".py",
   "mimetype": "text/x-python",
   "name": "python",
   "nbconvert_exporter": "python",
   "pygments_lexer": "ipython3",
   "version": "3.6.1"
  }
 },
 "nbformat": 4,
 "nbformat_minor": 2
}
